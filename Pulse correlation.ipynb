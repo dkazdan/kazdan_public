{
 "cells": [
  {
   "cell_type": "markdown",
   "id": "133581cb",
   "metadata": {},
   "source": [
    "Correlation example:\n",
    "Make a signal vector of 1000 elements, initialize to zero.\n",
    "Create a signal at some arbitrary place in the vector\n",
    "Make a template vector.\n",
    "Run the correlation (create correlation vector, take the progressing inner products)\n",
    "Graph the resulting correlation."
   ]
  },
  {
   "cell_type": "markdown",
   "id": "1055a61b",
   "metadata": {},
   "source": [
    "Import needed libraries"
   ]
  },
  {
   "cell_type": "code",
   "execution_count": 79,
   "id": "1f547e4d",
   "metadata": {},
   "outputs": [],
   "source": [
    "import numpy as np\n",
    "import matplotlib.pyplot as plt"
   ]
  },
  {
   "cell_type": "markdown",
   "id": "b38a671f",
   "metadata": {},
   "source": [
    "Create a signal vector of zeros except a 50 element pulse"
   ]
  },
  {
   "cell_type": "code",
   "execution_count": 80,
   "id": "a53f8863",
   "metadata": {},
   "outputs": [],
   "source": [
    "signal=np.zeros(1000)\n",
    "for i in range(250, 299):\n",
    "    signal[i]=1\n",
    "#for i in range(249, 354):\n",
    "#    print(signal[i])"
   ]
  },
  {
   "cell_type": "markdown",
   "id": "96c206f0",
   "metadata": {},
   "source": [
    "Create a template vector to match the pulse"
   ]
  },
  {
   "cell_type": "code",
   "execution_count": 81,
   "id": "6c270a80",
   "metadata": {},
   "outputs": [],
   "source": [
    "template=np.ones(50)\n",
    "#print(template)"
   ]
  },
  {
   "cell_type": "markdown",
   "id": "84c6771e",
   "metadata": {},
   "source": [
    "Create a correlation vector, initialize to zero"
   ]
  },
  {
   "cell_type": "code",
   "execution_count": 82,
   "id": "7d76797e",
   "metadata": {},
   "outputs": [],
   "source": [
    "correlation=np.zeros(1000)"
   ]
  },
  {
   "cell_type": "markdown",
   "id": "78292168",
   "metadata": {},
   "source": [
    "Run the correlation"
   ]
  },
  {
   "cell_type": "code",
   "execution_count": 83,
   "id": "a70e2439",
   "metadata": {},
   "outputs": [],
   "source": [
    "for i in range(0, np.size(signal)-np.size(template)-1):\n",
    "    for j in range (0, np.size(template-1)):\n",
    "        correlation[i]=correlation[i]+signal[i+j]*template[j]\n",
    "#print(np.size(signal)-np.size(template))"
   ]
  },
  {
   "cell_type": "markdown",
   "id": "de4738a3",
   "metadata": {},
   "source": [
    "Plot resulting correlation vector.  Note peak correlation at beginning of pulse in signal vector.\n",
    "Note that correlation is not normalized--the correlation size scales with the size of the correlation vector.\n",
    "This could be corrected.  It should peak at 1 for full correlation."
   ]
  },
  {
   "cell_type": "code",
   "execution_count": 84,
   "id": "b1d4aa33",
   "metadata": {},
   "outputs": [
    {
     "data": {
      "image/png": "[encoded data removed]",
      "text/plain": [
       "<Figure size 432x288 with 1 Axes>"
      ]
     },
     "metadata": {
      "needs_background": "light"
     },
     "output_type": "display_data"
    }
   ],
   "source": [
    "index = np.arange(0, np.size(correlation))\n",
    "fig, ax = plt.subplots()\n",
    "ax.plot(index, correlation)\n",
    "\n",
    "ax.set(xlabel='sample number', ylabel='correlation',\n",
    "       title='Correlation of pulse in samples 250 to 299')\n",
    "ax.grid()\n",
    "\n",
    "fig.savefig(\"test.png\")\n",
    "plt.show()"
   ]
  }
 ],
 "metadata": {
  "kernelspec": {
   "display_name": "Python 3 (ipykernel)",
   "language": "python",
   "name": "python3"
  },
  "language_info": {
   "codemirror_mode": {
    "name": "ipython",
    "version": 3
   },
   "file_extension": ".py",
   "mimetype": "text/x-python",
   "name": "python",
   "nbconvert_exporter": "python",
   "pygments_lexer": "ipython3",
   "version": "3.9.13"
  }
 },
 "nbformat": 4,
 "nbformat_minor": 5
}
